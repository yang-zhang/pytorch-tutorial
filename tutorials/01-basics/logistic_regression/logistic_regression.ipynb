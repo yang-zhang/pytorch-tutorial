{
 "cells": [
  {
   "cell_type": "code",
   "execution_count": 1,
   "metadata": {},
   "outputs": [],
   "source": [
    "%matplotlib inline"
   ]
  },
  {
   "cell_type": "code",
   "execution_count": 2,
   "metadata": {},
   "outputs": [],
   "source": [
    "import torch\n",
    "import torch.nn as nn\n",
    "import torchvision\n",
    "import torchvision.transforms as transforms"
   ]
  },
  {
   "cell_type": "code",
   "execution_count": 3,
   "metadata": {},
   "outputs": [
    {
     "name": "stdout",
     "output_type": "stream",
     "text": [
      "Epoch [1/5], Step [100/600], Loss: 2.1871\n",
      "Epoch [1/5], Step [200/600], Loss: 2.1006\n",
      "Epoch [1/5], Step [300/600], Loss: 1.9995\n",
      "Epoch [1/5], Step [400/600], Loss: 1.8989\n",
      "Epoch [1/5], Step [500/600], Loss: 1.8588\n",
      "Epoch [1/5], Step [600/600], Loss: 1.7859\n",
      "Epoch [2/5], Step [100/600], Loss: 1.6895\n",
      "Epoch [2/5], Step [200/600], Loss: 1.6525\n",
      "Epoch [2/5], Step [300/600], Loss: 1.6888\n",
      "Epoch [2/5], Step [400/600], Loss: 1.5895\n",
      "Epoch [2/5], Step [500/600], Loss: 1.5615\n",
      "Epoch [2/5], Step [600/600], Loss: 1.4472\n",
      "Epoch [3/5], Step [100/600], Loss: 1.4368\n",
      "Epoch [3/5], Step [200/600], Loss: 1.3545\n",
      "Epoch [3/5], Step [300/600], Loss: 1.3867\n",
      "Epoch [3/5], Step [400/600], Loss: 1.2446\n",
      "Epoch [3/5], Step [500/600], Loss: 1.2437\n",
      "Epoch [3/5], Step [600/600], Loss: 1.1830\n",
      "Epoch [4/5], Step [100/600], Loss: 1.1716\n",
      "Epoch [4/5], Step [200/600], Loss: 1.2986\n",
      "Epoch [4/5], Step [300/600], Loss: 1.2028\n",
      "Epoch [4/5], Step [400/600], Loss: 1.1677\n",
      "Epoch [4/5], Step [500/600], Loss: 1.0295\n",
      "Epoch [4/5], Step [600/600], Loss: 1.0098\n",
      "Epoch [5/5], Step [100/600], Loss: 1.0368\n",
      "Epoch [5/5], Step [200/600], Loss: 1.0389\n",
      "Epoch [5/5], Step [300/600], Loss: 1.0549\n",
      "Epoch [5/5], Step [400/600], Loss: 1.0231\n",
      "Epoch [5/5], Step [500/600], Loss: 1.0145\n",
      "Epoch [5/5], Step [600/600], Loss: 0.9833\n"
     ]
    }
   ],
   "source": [
    "# Hyper-parameters \n",
    "input_size = 784\n",
    "num_classes = 10\n",
    "num_epochs = 5\n",
    "batch_size = 100\n",
    "learning_rate = 0.001\n",
    "\n",
    "# MNIST dataset (images and labels)\n",
    "train_dataset = torchvision.datasets.MNIST(root='../../data', \n",
    "                                           train=True, \n",
    "                                           transform=transforms.ToTensor(),\n",
    "                                           download=True)\n",
    "\n",
    "test_dataset = torchvision.datasets.MNIST(root='../../data', \n",
    "                                          train=False, \n",
    "                                          transform=transforms.ToTensor())\n",
    "\n",
    "# Data loader (input pipeline)\n",
    "train_loader = torch.utils.data.DataLoader(dataset=train_dataset, \n",
    "                                           batch_size=batch_size, \n",
    "                                           shuffle=True)\n",
    "\n",
    "test_loader = torch.utils.data.DataLoader(dataset=test_dataset, \n",
    "                                          batch_size=batch_size, \n",
    "                                          shuffle=False)\n",
    "\n",
    "# Logistic regression model\n",
    "model = nn.Linear(input_size, num_classes)\n",
    "\n",
    "# Loss and optimizer\n",
    "# nn.CrossEntropyLoss() computes softmax internally\n",
    "criterion = nn.CrossEntropyLoss()  \n",
    "optimizer = torch.optim.SGD(model.parameters(), lr=learning_rate)  \n",
    "\n",
    "# Train the model\n",
    "total_step = len(train_loader)\n",
    "for epoch in range(num_epochs):\n",
    "    for i, (images, labels) in enumerate(train_loader):\n",
    "        # Reshape images to (batch_size, input_size)\n",
    "        images = images.reshape(-1, 28*28)\n",
    "        \n",
    "        # Forward pass\n",
    "        outputs = model(images)\n",
    "        loss = criterion(outputs, labels)\n",
    "        \n",
    "        # Backward and optimize\n",
    "        optimizer.zero_grad()\n",
    "        loss.backward()\n",
    "        optimizer.step()\n",
    "        \n",
    "        if (i+1) % 100 == 0:\n",
    "            print ('Epoch [{}/{}], Step [{}/{}], Loss: {:.4f}' \n",
    "                   .format(epoch+1, num_epochs, i+1, total_step, loss.item()))"
   ]
  },
  {
   "cell_type": "code",
   "execution_count": 6,
   "metadata": {},
   "outputs": [
    {
     "data": {
      "text/plain": [
       "(600, torch.Size([100, 784]), torch.Size([100]))"
      ]
     },
     "execution_count": 6,
     "metadata": {},
     "output_type": "execute_result"
    }
   ],
   "source": [
    "total_step, images.shape, labels.shape"
   ]
  },
  {
   "cell_type": "code",
   "execution_count": 7,
   "metadata": {},
   "outputs": [
    {
     "name": "stdout",
     "output_type": "stream",
     "text": [
      "Accuracy of the model on the 10000 test images: 82 %\n"
     ]
    }
   ],
   "source": [
    "# Test the model\n",
    "# In test phase, we don't need to compute gradients (for memory efficiency)\n",
    "with torch.no_grad():\n",
    "    correct = 0\n",
    "    total = 0\n",
    "    for images, labels in test_loader:\n",
    "        images = images.reshape(-1, 28*28)\n",
    "        outputs = model(images)\n",
    "        _, predicted = torch.max(outputs.data, 1)\n",
    "        total += labels.size(0)\n",
    "        correct += (predicted == labels).sum()\n",
    "\n",
    "    print('Accuracy of the model on the 10000 test images: {} %'.format(100 * correct / total))\n",
    "\n",
    "# Save the model checkpoint\n",
    "torch.save(model.state_dict(), 'model.ckpt')"
   ]
  },
  {
   "cell_type": "code",
   "execution_count": 9,
   "metadata": {},
   "outputs": [
    {
     "data": {
      "text/plain": [
       "(torch.Size([100, 784]), torch.Size([100]), torch.Size([100]))"
      ]
     },
     "execution_count": 9,
     "metadata": {},
     "output_type": "execute_result"
    }
   ],
   "source": [
    "images.shape, labels.shape, predicted.shape"
   ]
  },
  {
   "cell_type": "code",
   "execution_count": 10,
   "metadata": {},
   "outputs": [
    {
     "data": {
      "text/plain": [
       "OrderedDict([('weight',\n",
       "              tensor([[ 0.0349, -0.0331,  0.0314,  ..., -0.0334,  0.0339, -0.0235],\n",
       "                      [ 0.0223, -0.0080,  0.0079,  ..., -0.0355, -0.0285,  0.0265],\n",
       "                      [ 0.0026, -0.0271,  0.0303,  ..., -0.0134,  0.0176, -0.0277],\n",
       "                      ...,\n",
       "                      [ 0.0143, -0.0224,  0.0250,  ..., -0.0290, -0.0024, -0.0306],\n",
       "                      [-0.0136,  0.0333,  0.0003,  ..., -0.0091,  0.0110, -0.0152],\n",
       "                      [-0.0331,  0.0323,  0.0115,  ...,  0.0251,  0.0183, -0.0293]])),\n",
       "             ('bias', tensor(1.00000e-02 *\n",
       "                     [-1.8764,  2.3952,  0.4064, -1.1929, -0.5676,  3.1836, -0.0506,\n",
       "                      -0.4835, -6.5613,  1.4410]))])"
      ]
     },
     "execution_count": 10,
     "metadata": {},
     "output_type": "execute_result"
    }
   ],
   "source": [
    "model.state_dict()"
   ]
  },
  {
   "cell_type": "code",
   "execution_count": 12,
   "metadata": {},
   "outputs": [
    {
     "data": {
      "text/plain": [
       "(torch.Size([10, 784]), torch.Size([10]))"
      ]
     },
     "execution_count": 12,
     "metadata": {},
     "output_type": "execute_result"
    }
   ],
   "source": [
    "model.state_dict()['weight'].shape, model.state_dict()['bias'].shape"
   ]
  },
  {
   "cell_type": "code",
   "execution_count": null,
   "metadata": {},
   "outputs": [],
   "source": []
  }
 ],
 "metadata": {
  "kernelspec": {
   "display_name": "Python 3",
   "language": "python",
   "name": "python3"
  },
  "language_info": {
   "codemirror_mode": {
    "name": "ipython",
    "version": 3
   },
   "file_extension": ".py",
   "mimetype": "text/x-python",
   "name": "python",
   "nbconvert_exporter": "python",
   "pygments_lexer": "ipython3",
   "version": "3.6.5"
  },
  "toc": {
   "base_numbering": 1,
   "nav_menu": {},
   "number_sections": true,
   "sideBar": true,
   "skip_h1_title": false,
   "title_cell": "Table of Contents",
   "title_sidebar": "Contents",
   "toc_cell": false,
   "toc_position": {},
   "toc_section_display": true,
   "toc_window_display": false
  }
 },
 "nbformat": 4,
 "nbformat_minor": 2
}
