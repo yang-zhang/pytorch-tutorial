{
 "cells": [
  {
   "cell_type": "markdown",
   "metadata": {},
   "source": [
    "- http://localhost:8887/edit/git/pytorch-tutorial/tutorials/03-advanced/image_captioning/model.py\n",
    "- http://localhost:8887/edit/git/pytorch-tutorial/tutorials/03-advanced/image_captioning/train.py"
   ]
  },
  {
   "cell_type": "markdown",
   "metadata": {},
   "source": [
    "# setup"
   ]
  },
  {
   "cell_type": "code",
   "execution_count": 1,
   "metadata": {},
   "outputs": [],
   "source": [
    "from collections import OrderedDict"
   ]
  },
  {
   "cell_type": "markdown",
   "metadata": {},
   "source": [
    "# run 1step of training"
   ]
  },
  {
   "cell_type": "code",
   "execution_count": 2,
   "metadata": {},
   "outputs": [],
   "source": [
    "import argparse\n",
    "import torch\n",
    "import torch.nn as nn\n",
    "import numpy as np\n",
    "import os\n",
    "import pickle\n",
    "from data_loader import get_loader \n",
    "from build_vocab import Vocabulary\n",
    "from model import EncoderCNN, DecoderRNN\n",
    "from torch.nn.utils.rnn import pack_padded_sequence\n",
    "from torchvision import transforms\n",
    "\n",
    "\n",
    "# Device configuration\n",
    "device = torch.device('cuda' if torch.cuda.is_available() else 'cpu')\n",
    "\n",
    "parser = argparse.ArgumentParser()\n",
    "parser.add_argument('--model_path', type=str, default='models/' , help='path for saving trained models')\n",
    "parser.add_argument('--crop_size', type=int, default=224 , help='size for randomly cropping images')\n",
    "parser.add_argument('--vocab_path', type=str, default='data/vocab.pkl', help='path for vocabulary wrapper')\n",
    "parser.add_argument('--image_dir', type=str, default='data/resized2014', help='directory for resized images')\n",
    "parser.add_argument('--caption_path', type=str, default='data/annotations/captions_train2014.json', help='path for train annotation json file')\n",
    "parser.add_argument('--log_step', type=int , default=10, help='step size for prining log info')\n",
    "parser.add_argument('--save_step', type=int , default=1000, help='step size for saving trained models')\n",
    "\n",
    "# Model parameters\n",
    "parser.add_argument('--embed_size', type=int , default=256, help='dimension of word embedding vectors')\n",
    "parser.add_argument('--hidden_size', type=int , default=512, help='dimension of lstm hidden states')\n",
    "parser.add_argument('--num_layers', type=int , default=1, help='number of layers in lstm')\n",
    "\n",
    "parser.add_argument('--num_epochs', type=int, default=5)\n",
    "parser.add_argument('--batch_size', type=int, default=16)\n",
    "parser.add_argument('--num_workers', type=int, default=2)\n",
    "parser.add_argument('--learning_rate', type=float, default=0.001)\n",
    "args = parser.parse_args(\"\")"
   ]
  },
  {
   "cell_type": "code",
   "execution_count": 3,
   "metadata": {},
   "outputs": [
    {
     "name": "stdout",
     "output_type": "stream",
     "text": [
      "loading annotations into memory...\n",
      "Done (t=0.51s)\n",
      "creating index...\n",
      "index created!\n"
     ]
    }
   ],
   "source": [
    "# Create model directory\n",
    "if not os.path.exists(args.model_path):\n",
    "    os.makedirs(args.model_path)\n",
    "\n",
    "# Image preprocessing, normalization for the pretrained resnet\n",
    "transform = transforms.Compose([ \n",
    "    transforms.RandomCrop(args.crop_size),\n",
    "    transforms.RandomHorizontalFlip(), \n",
    "    transforms.ToTensor(), \n",
    "    transforms.Normalize((0.485, 0.456, 0.406), \n",
    "                         (0.229, 0.224, 0.225))])\n",
    "\n",
    "# Load vocabulary wrapper\n",
    "with open(args.vocab_path, 'rb') as f:\n",
    "    vocab = pickle.load(f)\n",
    "\n",
    "# Build data loader\n",
    "data_loader = get_loader(args.image_dir, args.caption_path, vocab, \n",
    "                         transform, args.batch_size,\n",
    "                         shuffle=True, num_workers=args.num_workers) "
   ]
  },
  {
   "cell_type": "raw",
   "metadata": {},
   "source": [
    "# Build the models\n",
    "encoder = EncoderCNN(args.embed_size).to(device)\n",
    "decoder = DecoderRNN(args.embed_size, args.hidden_size, len(vocab), args.num_layers).to(device)\n",
    "\n",
    "# Loss and optimizer\n",
    "criterion = nn.CrossEntropyLoss()\n",
    "params = list(decoder.parameters()) + list(encoder.linear.parameters()) + list(encoder.bn.parameters())\n",
    "optimizer = torch.optim.Adam(params, lr=args.learning_rate)\n",
    "\n",
    "# Train the models\n",
    "total_step = len(data_loader)"
   ]
  },
  {
   "cell_type": "raw",
   "metadata": {},
   "source": [
    "# for epoch in range(args.num_epochs):\n",
    "#     for i, (images, captions, lengths) in enumerate(data_loader):\n",
    "i = 0\n",
    "images, captions, lengths = next(iter(data_loader))\n",
    "# Set mini-batch dataset\n",
    "images = images.to(device)\n",
    "captions = captions.to(device)\n",
    "targets = pack_padded_sequence(captions, lengths, batch_first=True)[0]\n",
    "\n",
    "# Forward, backward and optimize\n",
    "features = encoder(images)\n",
    "\n",
    "outputs = decoder(features, captions, lengths)\n",
    "loss = criterion(outputs, targets)\n",
    "decoder.zero_grad()\n",
    "encoder.zero_grad()\n",
    "loss.backward()\n",
    "optimizer.step()"
   ]
  },
  {
   "cell_type": "markdown",
   "metadata": {},
   "source": [
    "# encoder"
   ]
  },
  {
   "cell_type": "code",
   "execution_count": 4,
   "metadata": {},
   "outputs": [],
   "source": [
    "images, captions, lengths = next(iter(data_loader))\n",
    "# Set mini-batch dataset\n",
    "images = images.to(device)\n",
    "captions = captions.to(device)\n",
    "targets = pack_padded_sequence(captions, lengths, batch_first=True)[0]"
   ]
  },
  {
   "cell_type": "code",
   "execution_count": 5,
   "metadata": {},
   "outputs": [
    {
     "data": {
      "text/plain": [
       "odict_keys(['resnet', 'linear', 'bn'])"
      ]
     },
     "execution_count": 5,
     "metadata": {},
     "output_type": "execute_result"
    }
   ],
   "source": [
    "encoder = EncoderCNN(args.embed_size).to(device)\n",
    "\n",
    "nmd_children = OrderedDict(encoder.named_children())\n",
    "\n",
    "nmd_children.keys()"
   ]
  },
  {
   "cell_type": "code",
   "execution_count": 13,
   "metadata": {},
   "outputs": [
    {
     "data": {
      "text/plain": [
       "torch.Size([16, 3, 224, 224])"
      ]
     },
     "execution_count": 13,
     "metadata": {},
     "output_type": "execute_result"
    }
   ],
   "source": [
    "images.size()"
   ]
  },
  {
   "cell_type": "code",
   "execution_count": 6,
   "metadata": {},
   "outputs": [
    {
     "name": "stdout",
     "output_type": "stream",
     "text": [
      "\n",
      "Inside Sequential forward\n",
      "\n",
      "input type:  <class 'tuple'>\n",
      "input len: 1\n",
      "input[0] type:  <class 'torch.Tensor'>\n",
      "input[0] size:  torch.Size([16, 3, 224, 224])\n",
      "\n",
      "output type:  <class 'torch.Tensor'>\n",
      "output size:  torch.Size([16, 2048, 1, 1])\n",
      "\n",
      "----------\n",
      "\n",
      "Inside Linear forward\n",
      "\n",
      "input type:  <class 'tuple'>\n",
      "input len: 1\n",
      "input[0] type:  <class 'torch.Tensor'>\n",
      "input[0] size:  torch.Size([16, 2048])\n",
      "\n",
      "output type:  <class 'torch.Tensor'>\n",
      "output size:  torch.Size([16, 256])\n",
      "\n",
      "----------\n",
      "\n",
      "Inside BatchNorm1d forward\n",
      "\n",
      "input type:  <class 'tuple'>\n",
      "input len: 1\n",
      "input[0] type:  <class 'torch.Tensor'>\n",
      "input[0] size:  torch.Size([16, 256])\n",
      "\n",
      "output type:  <class 'torch.Tensor'>\n",
      "output size:  torch.Size([16, 256])\n",
      "\n",
      "----------\n"
     ]
    }
   ],
   "source": [
    "def print_ioshape(self, input, output):\n",
    "    print('')\n",
    "    print('Inside ' + self.__class__.__name__ + ' forward')\n",
    "    print('')\n",
    "    print('input type: ', type(input))\n",
    "    print('input len:', len(input))\n",
    "    print('input[0] type: ', type(input[0]))\n",
    "    print('input[0] size: ', input[0].size())\n",
    "    print('')\n",
    "    print('output type: ', type(output))\n",
    "    print('output size: ', output.size())\n",
    "    print('')\n",
    "    print('-'*10)\n",
    "\n",
    "\n",
    "for child in nmd_children.values():\n",
    "    child.register_forward_hook(print_ioshape)\n",
    "\n",
    "features = encoder(images)"
   ]
  },
  {
   "cell_type": "code",
   "execution_count": null,
   "metadata": {},
   "outputs": [],
   "source": []
  },
  {
   "cell_type": "markdown",
   "metadata": {},
   "source": [
    "# decoder"
   ]
  },
  {
   "cell_type": "code",
   "execution_count": 15,
   "metadata": {
    "scrolled": true
   },
   "outputs": [
    {
     "data": {
      "text/plain": [
       "OrderedDict([('embed', Embedding(9957, 256)),\n",
       "             ('lstm', LSTM(256, 512, batch_first=True)),\n",
       "             ('linear',\n",
       "              Linear(in_features=512, out_features=9957, bias=True))])"
      ]
     },
     "execution_count": 15,
     "metadata": {},
     "output_type": "execute_result"
    }
   ],
   "source": [
    "decoder = DecoderRNN(args.embed_size, args.hidden_size, len(vocab), args.num_layers).to(device)\n",
    "\n",
    "nmd_children = OrderedDict(decoder.named_children())\n",
    "\n",
    "nmd_children"
   ]
  },
  {
   "cell_type": "code",
   "execution_count": 16,
   "metadata": {},
   "outputs": [],
   "source": [
    "images, captions, lengths = next(iter(data_loader))\n",
    "# Set mini-batch dataset\n",
    "images = images.to(device)\n",
    "captions = captions.to(device)\n",
    "targets = pack_padded_sequence(captions, lengths, batch_first=True)[0]\n",
    "\n",
    "encoder = EncoderCNN(args.embed_size).to(device)\n",
    "features = encoder(images)"
   ]
  },
  {
   "cell_type": "markdown",
   "metadata": {},
   "source": [
    "## embed"
   ]
  },
  {
   "cell_type": "code",
   "execution_count": 17,
   "metadata": {},
   "outputs": [
    {
     "name": "stdout",
     "output_type": "stream",
     "text": [
      "Inside Embedding forward\n",
      "\n",
      "input type:  <class 'tuple'>\n",
      "input len: 1\n",
      "input[0] type:  <class 'torch.Tensor'>\n",
      "input[0] size:  torch.Size([16, 20])\n",
      "\n",
      "output type:  <class 'torch.Tensor'>\n",
      "output size:  torch.Size([16, 20, 256])\n"
     ]
    }
   ],
   "source": [
    "def print_ioshape(self, input, output):\n",
    "    print('Inside ' + self.__class__.__name__ + ' forward')\n",
    "    print('')\n",
    "    print('input type: ', type(input))\n",
    "    print('input len:', len(input))\n",
    "    print('input[0] type: ', type(input[0]))\n",
    "    print('input[0] size: ', input[0].size())\n",
    "    print('')\n",
    "    print('output type: ', type(output))\n",
    "    print('output size: ', output.size())\n",
    "\n",
    "\n",
    "decoder = DecoderRNN(args.embed_size, args.hidden_size, len(vocab), args.num_layers).to(device)\n",
    "nmd_children = OrderedDict(decoder.named_children())\n",
    "nmd_children['embed'].register_forward_hook(print_ioshape)\n",
    "outputs = decoder(features, captions, lengths)"
   ]
  },
  {
   "cell_type": "markdown",
   "metadata": {},
   "source": [
    "## lstm"
   ]
  },
  {
   "cell_type": "code",
   "execution_count": 10,
   "metadata": {},
   "outputs": [
    {
     "name": "stdout",
     "output_type": "stream",
     "text": [
      "Inside LSTM forward\n",
      "\n",
      "input type:  <class 'tuple'>\n",
      "input len: 1\n",
      "input[0] type:  <class 'torch.nn.utils.rnn.PackedSequence'>\n",
      "input[0] len:  2\n",
      "input[0][0] len:  233\n",
      "input[0][1] len:  19\n",
      "\n",
      "output type:  <class 'tuple'>\n",
      "out len: 2\n",
      "output[0] type:  <class 'torch.nn.utils.rnn.PackedSequence'>\n",
      "output[0] len:  2\n",
      "output[0][0] len:  233\n",
      "output[0][1] len:  19\n",
      "output[1] type:  <class 'tuple'>\n",
      "output[1] len:  2\n",
      "output[1][0] type:  <class 'torch.Tensor'>\n",
      "output[1][0] size:  torch.Size([1, 16, 512])\n",
      "output[1][1] type:  <class 'torch.Tensor'>\n",
      "output[1][1] size:  torch.Size([1, 16, 512])\n"
     ]
    }
   ],
   "source": [
    "def print_ioshape(self, input, output):\n",
    "    print('Inside ' + self.__class__.__name__ + ' forward')\n",
    "    print('')\n",
    "    print('input type: ', type(input))\n",
    "    print('input len:', len(input))\n",
    "    print('input[0] type: ', type(input[0]))\n",
    "    print('input[0] len: ', len(input[0]))\n",
    "    print('input[0][0] len: ', len(input[0][0]))\n",
    "    print('input[0][1] len: ', len(input[0][1]))\n",
    "    print('')\n",
    "    print('output type: ', type(output))\n",
    "    print('out len:', len(output))\n",
    "    print('output[0] type: ', type(output[0]))\n",
    "    print('output[0] len: ', len(output[0]))\n",
    "    print('output[0][0] len: ', len(output[0][0]))\n",
    "    print('output[0][1] len: ', len(output[0][1]))\n",
    "    print('output[1] type: ', type(output[1]))\n",
    "    print('output[1] len: ', len(output[1]))\n",
    "    print('output[1][0] type: ', type(output[1][0]))\n",
    "    print('output[1][0] size: ', output[1][0].size())\n",
    "    print('output[1][1] type: ', type(output[1][1]))\n",
    "    print('output[1][1] size: ', output[1][1].size())\n",
    "\n",
    "\n",
    "decoder = DecoderRNN(args.embed_size, args.hidden_size, len(vocab), args.num_layers).to(device)\n",
    "nmd_children = OrderedDict(decoder.named_children())\n",
    "nmd_children['lstm'].register_forward_hook(print_ioshape)\n",
    "outputs = decoder(features, captions, lengths)"
   ]
  },
  {
   "cell_type": "code",
   "execution_count": null,
   "metadata": {},
   "outputs": [],
   "source": []
  },
  {
   "cell_type": "markdown",
   "metadata": {},
   "source": [
    "## linear"
   ]
  },
  {
   "cell_type": "code",
   "execution_count": 11,
   "metadata": {},
   "outputs": [
    {
     "name": "stdout",
     "output_type": "stream",
     "text": [
      "Inside Linear forward\n",
      "\n",
      "input type:  <class 'tuple'>\n",
      "input len: 1\n",
      "input[0] type:  <class 'torch.Tensor'>\n",
      "input[0] size:  torch.Size([233, 512])\n",
      "\n",
      "output type:  <class 'torch.Tensor'>\n",
      "output size:  torch.Size([233, 9957])\n"
     ]
    }
   ],
   "source": [
    "def print_ioshape(self, input, output):\n",
    "    print('Inside ' + self.__class__.__name__ + ' forward')\n",
    "    print('')\n",
    "    print('input type: ', type(input))\n",
    "    print('input len:', len(input))\n",
    "    print('input[0] type: ', type(input[0]))\n",
    "    print('input[0] size: ', input[0].size())\n",
    "    print('')\n",
    "    print('output type: ', type(output))\n",
    "    print('output size: ', output.size())\n",
    "\n",
    "decoder = DecoderRNN(args.embed_size, args.hidden_size, len(vocab), args.num_layers).to(device)\n",
    "nmd_children = OrderedDict(decoder.named_children())\n",
    "nmd_children['linear'].register_forward_hook(print_ioshape)\n",
    "outputs = decoder(features, captions, lengths)"
   ]
  },
  {
   "cell_type": "code",
   "execution_count": null,
   "metadata": {},
   "outputs": [],
   "source": []
  },
  {
   "cell_type": "code",
   "execution_count": null,
   "metadata": {},
   "outputs": [],
   "source": []
  },
  {
   "cell_type": "code",
   "execution_count": null,
   "metadata": {},
   "outputs": [],
   "source": []
  },
  {
   "cell_type": "code",
   "execution_count": null,
   "metadata": {},
   "outputs": [],
   "source": []
  },
  {
   "cell_type": "code",
   "execution_count": null,
   "metadata": {},
   "outputs": [],
   "source": []
  }
 ],
 "metadata": {
  "kernelspec": {
   "display_name": "Python 3",
   "language": "python",
   "name": "python3"
  },
  "language_info": {
   "codemirror_mode": {
    "name": "ipython",
    "version": 3
   },
   "file_extension": ".py",
   "mimetype": "text/x-python",
   "name": "python",
   "nbconvert_exporter": "python",
   "pygments_lexer": "ipython3",
   "version": "3.6.5"
  },
  "toc": {
   "base_numbering": 1,
   "nav_menu": {},
   "number_sections": true,
   "sideBar": true,
   "skip_h1_title": false,
   "title_cell": "Table of Contents",
   "title_sidebar": "Contents",
   "toc_cell": false,
   "toc_position": {},
   "toc_section_display": true,
   "toc_window_display": true
  }
 },
 "nbformat": 4,
 "nbformat_minor": 2
}
